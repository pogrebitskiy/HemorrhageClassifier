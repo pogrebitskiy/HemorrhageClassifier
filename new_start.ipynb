{
 "cells": [
  {
   "cell_type": "code",
   "execution_count": 1,
   "metadata": {
    "collapsed": true
   },
   "outputs": [],
   "source": [
    "import pandas as pd\n",
    "import numpy as np\n",
    "import time\n",
    "from sklearn.linear_model import LogisticRegression\n",
    "from sklearn.decomposition import PCA\n",
    "from sklearn.feature_selection import SelectKBest, chi2, f_classif, mutual_info_classif\n",
    "from sklearn.neighbors import KNeighborsClassifier\n",
    "from sklearn.model_selection import train_test_split\n",
    "from sklearn.svm import SVC\n",
    "from sklearn.metrics import confusion_matrix, ConfusionMatrixDisplay\n",
    "import matplotlib.pyplot as plt\n",
    "from pprint import pprint\n",
    "import random as rnd\n",
    "import warnings\n",
    "warnings.filterwarnings('ignore')"
   ]
  },
  {
   "cell_type": "code",
   "execution_count": 2,
   "outputs": [],
   "source": [
    "# Read in probability data\n",
    "prob_df = pd.read_csv('CRISPR_gene_dependency 3.06.36 PM.csv')\n",
    "# Read in labels\n",
    "label_df = pd.read_csv('sample_info.csv').reset_index()\n",
    "\n",
    "\n",
    "# Select desired labels only\n",
    "label_df = label_df[['DepMap_ID', 'lineage', 'sex']]"
   ],
   "metadata": {
    "collapsed": false
   }
  },
  {
   "cell_type": "code",
   "execution_count": 3,
   "outputs": [],
   "source": [
    "combined_df = pd.merge(prob_df, label_df, left_on='DepMap_ID', right_on='DepMap_ID')"
   ],
   "metadata": {
    "collapsed": false
   }
  },
  {
   "cell_type": "code",
   "execution_count": 4,
   "outputs": [],
   "source": [
    "combined_df.dropna(axis=0, inplace=True)"
   ],
   "metadata": {
    "collapsed": false
   }
  },
  {
   "cell_type": "code",
   "execution_count": 5,
   "outputs": [],
   "source": [
    "blood_df = combined_df[combined_df['lineage'] == 'blood']\n",
    "not_blood_df = combined_df[combined_df['lineage'] != 'blood']"
   ],
   "metadata": {
    "collapsed": false
   }
  },
  {
   "cell_type": "code",
   "execution_count": 6,
   "outputs": [
    {
     "data": {
      "text/plain": "      DepMap_ID  A1BG (1)  A1CF (29974)   A2M (2)  A2ML1 (144568)  \\\n1    ACH-000004  0.012676      0.049011  0.075933        0.033215   \n2    ACH-000005  0.053957      0.027968  0.010139        0.005448   \n28   ACH-000045  0.032071      0.009133  0.016520        0.018493   \n37   ACH-000070  0.006839      0.016416  0.011145        0.000823   \n38   ACH-000074  0.022002      0.017107  0.005077        0.000649   \n..          ...       ...           ...       ...             ...   \n721  ACH-001295  0.067002      0.041778  0.033993        0.048634   \n948  ACH-001862  0.003301      0.010862  0.053514        0.115383   \n64   ACH-000120  0.152735      0.071259  0.015100        0.039175   \n826  ACH-001536  0.103327      0.105757  0.023968        0.226432   \n533  ACH-000823  0.042740      0.050875  0.025178        0.018272   \n\n     A3GALT2 (127550)  A4GALT (53947)  A4GNT (51146)  AAAS (8086)  \\\n1            0.013176        0.097497       0.005015     0.153166   \n2            0.018599        0.081636       0.005457     0.159904   \n28           0.015912        0.037355       0.107148     0.265936   \n37           0.249916        0.023081       0.011167     0.047596   \n38           0.018865        0.044079       0.009882     0.012521   \n..                ...             ...            ...          ...   \n721          0.037873        0.128578       0.113695     0.160861   \n948          0.056457        0.610802       0.012984     0.508069   \n64           0.030886        0.138717       0.017778     0.673827   \n826          0.148291        0.179185       0.117725     0.200721   \n533          0.078067        0.123210       0.016575     0.215212   \n\n     AACS (65985)  ...  ZXDA (7789)  ZXDB (158586)  ZXDC (79364)  \\\n1        0.007358  ...     0.007125       0.021209      0.011203   \n2        0.050884  ...     0.054525       0.033396      0.033416   \n28       0.049798  ...     0.003826       0.003129      0.012569   \n37       0.014651  ...     0.004846       0.001659      0.018769   \n38       0.018678  ...     0.006785       0.012226      0.028397   \n..            ...  ...          ...            ...           ...   \n721      0.028161  ...     0.015653       0.015170      0.037919   \n948      0.127964  ...     0.056923       0.011835      0.083590   \n64       0.026037  ...     0.013832       0.002857      0.037749   \n826      0.051404  ...     0.057576       0.086684      0.016250   \n533      0.036062  ...     0.011045       0.022754      0.026288   \n\n     ZYG11A (440590)  ZYG11B (79699)  ZYX (7791)  ZZEF1 (23140)  ZZZ3 (26009)  \\\n1           0.060266        0.128375    0.005911       0.004645      0.042530   \n2           0.034712        0.092832    0.012482       0.020843      0.050412   \n28          0.053228        0.025654    0.040709       0.096456      0.408855   \n37          0.045529        0.011120    0.050825       0.046322      0.347739   \n38          0.043169        0.012278    0.007279       0.005885      0.156583   \n..               ...             ...         ...            ...           ...   \n721         0.051443        0.059393    0.060943       0.237563      0.481471   \n948         0.063044        0.064767    0.185720       0.174639      0.032133   \n64          0.014961        0.066051    0.089158       0.042005      0.558650   \n826         0.111736        0.048491    0.096945       0.144653      0.226515   \n533         0.064011        0.097502    0.024371       0.068903      0.330795   \n\n                       lineage     sex  \n1                        blood    Male  \n2                        blood    Male  \n28                       blood    Male  \n37                       blood    Male  \n38                       blood    Male  \n..                         ...     ...  \n721                        eye  Female  \n948                  bile_duct    Male  \n64   peripheral_nervous_system    Male  \n826                  bile_duct  Female  \n533                  esophagus    Male  \n\n[116 rows x 17389 columns]",
      "text/html": "<div>\n<style scoped>\n    .dataframe tbody tr th:only-of-type {\n        vertical-align: middle;\n    }\n\n    .dataframe tbody tr th {\n        vertical-align: top;\n    }\n\n    .dataframe thead th {\n        text-align: right;\n    }\n</style>\n<table border=\"1\" class=\"dataframe\">\n  <thead>\n    <tr style=\"text-align: right;\">\n      <th></th>\n      <th>DepMap_ID</th>\n      <th>A1BG (1)</th>\n      <th>A1CF (29974)</th>\n      <th>A2M (2)</th>\n      <th>A2ML1 (144568)</th>\n      <th>A3GALT2 (127550)</th>\n      <th>A4GALT (53947)</th>\n      <th>A4GNT (51146)</th>\n      <th>AAAS (8086)</th>\n      <th>AACS (65985)</th>\n      <th>...</th>\n      <th>ZXDA (7789)</th>\n      <th>ZXDB (158586)</th>\n      <th>ZXDC (79364)</th>\n      <th>ZYG11A (440590)</th>\n      <th>ZYG11B (79699)</th>\n      <th>ZYX (7791)</th>\n      <th>ZZEF1 (23140)</th>\n      <th>ZZZ3 (26009)</th>\n      <th>lineage</th>\n      <th>sex</th>\n    </tr>\n  </thead>\n  <tbody>\n    <tr>\n      <th>1</th>\n      <td>ACH-000004</td>\n      <td>0.012676</td>\n      <td>0.049011</td>\n      <td>0.075933</td>\n      <td>0.033215</td>\n      <td>0.013176</td>\n      <td>0.097497</td>\n      <td>0.005015</td>\n      <td>0.153166</td>\n      <td>0.007358</td>\n      <td>...</td>\n      <td>0.007125</td>\n      <td>0.021209</td>\n      <td>0.011203</td>\n      <td>0.060266</td>\n      <td>0.128375</td>\n      <td>0.005911</td>\n      <td>0.004645</td>\n      <td>0.042530</td>\n      <td>blood</td>\n      <td>Male</td>\n    </tr>\n    <tr>\n      <th>2</th>\n      <td>ACH-000005</td>\n      <td>0.053957</td>\n      <td>0.027968</td>\n      <td>0.010139</td>\n      <td>0.005448</td>\n      <td>0.018599</td>\n      <td>0.081636</td>\n      <td>0.005457</td>\n      <td>0.159904</td>\n      <td>0.050884</td>\n      <td>...</td>\n      <td>0.054525</td>\n      <td>0.033396</td>\n      <td>0.033416</td>\n      <td>0.034712</td>\n      <td>0.092832</td>\n      <td>0.012482</td>\n      <td>0.020843</td>\n      <td>0.050412</td>\n      <td>blood</td>\n      <td>Male</td>\n    </tr>\n    <tr>\n      <th>28</th>\n      <td>ACH-000045</td>\n      <td>0.032071</td>\n      <td>0.009133</td>\n      <td>0.016520</td>\n      <td>0.018493</td>\n      <td>0.015912</td>\n      <td>0.037355</td>\n      <td>0.107148</td>\n      <td>0.265936</td>\n      <td>0.049798</td>\n      <td>...</td>\n      <td>0.003826</td>\n      <td>0.003129</td>\n      <td>0.012569</td>\n      <td>0.053228</td>\n      <td>0.025654</td>\n      <td>0.040709</td>\n      <td>0.096456</td>\n      <td>0.408855</td>\n      <td>blood</td>\n      <td>Male</td>\n    </tr>\n    <tr>\n      <th>37</th>\n      <td>ACH-000070</td>\n      <td>0.006839</td>\n      <td>0.016416</td>\n      <td>0.011145</td>\n      <td>0.000823</td>\n      <td>0.249916</td>\n      <td>0.023081</td>\n      <td>0.011167</td>\n      <td>0.047596</td>\n      <td>0.014651</td>\n      <td>...</td>\n      <td>0.004846</td>\n      <td>0.001659</td>\n      <td>0.018769</td>\n      <td>0.045529</td>\n      <td>0.011120</td>\n      <td>0.050825</td>\n      <td>0.046322</td>\n      <td>0.347739</td>\n      <td>blood</td>\n      <td>Male</td>\n    </tr>\n    <tr>\n      <th>38</th>\n      <td>ACH-000074</td>\n      <td>0.022002</td>\n      <td>0.017107</td>\n      <td>0.005077</td>\n      <td>0.000649</td>\n      <td>0.018865</td>\n      <td>0.044079</td>\n      <td>0.009882</td>\n      <td>0.012521</td>\n      <td>0.018678</td>\n      <td>...</td>\n      <td>0.006785</td>\n      <td>0.012226</td>\n      <td>0.028397</td>\n      <td>0.043169</td>\n      <td>0.012278</td>\n      <td>0.007279</td>\n      <td>0.005885</td>\n      <td>0.156583</td>\n      <td>blood</td>\n      <td>Male</td>\n    </tr>\n    <tr>\n      <th>...</th>\n      <td>...</td>\n      <td>...</td>\n      <td>...</td>\n      <td>...</td>\n      <td>...</td>\n      <td>...</td>\n      <td>...</td>\n      <td>...</td>\n      <td>...</td>\n      <td>...</td>\n      <td>...</td>\n      <td>...</td>\n      <td>...</td>\n      <td>...</td>\n      <td>...</td>\n      <td>...</td>\n      <td>...</td>\n      <td>...</td>\n      <td>...</td>\n      <td>...</td>\n      <td>...</td>\n    </tr>\n    <tr>\n      <th>721</th>\n      <td>ACH-001295</td>\n      <td>0.067002</td>\n      <td>0.041778</td>\n      <td>0.033993</td>\n      <td>0.048634</td>\n      <td>0.037873</td>\n      <td>0.128578</td>\n      <td>0.113695</td>\n      <td>0.160861</td>\n      <td>0.028161</td>\n      <td>...</td>\n      <td>0.015653</td>\n      <td>0.015170</td>\n      <td>0.037919</td>\n      <td>0.051443</td>\n      <td>0.059393</td>\n      <td>0.060943</td>\n      <td>0.237563</td>\n      <td>0.481471</td>\n      <td>eye</td>\n      <td>Female</td>\n    </tr>\n    <tr>\n      <th>948</th>\n      <td>ACH-001862</td>\n      <td>0.003301</td>\n      <td>0.010862</td>\n      <td>0.053514</td>\n      <td>0.115383</td>\n      <td>0.056457</td>\n      <td>0.610802</td>\n      <td>0.012984</td>\n      <td>0.508069</td>\n      <td>0.127964</td>\n      <td>...</td>\n      <td>0.056923</td>\n      <td>0.011835</td>\n      <td>0.083590</td>\n      <td>0.063044</td>\n      <td>0.064767</td>\n      <td>0.185720</td>\n      <td>0.174639</td>\n      <td>0.032133</td>\n      <td>bile_duct</td>\n      <td>Male</td>\n    </tr>\n    <tr>\n      <th>64</th>\n      <td>ACH-000120</td>\n      <td>0.152735</td>\n      <td>0.071259</td>\n      <td>0.015100</td>\n      <td>0.039175</td>\n      <td>0.030886</td>\n      <td>0.138717</td>\n      <td>0.017778</td>\n      <td>0.673827</td>\n      <td>0.026037</td>\n      <td>...</td>\n      <td>0.013832</td>\n      <td>0.002857</td>\n      <td>0.037749</td>\n      <td>0.014961</td>\n      <td>0.066051</td>\n      <td>0.089158</td>\n      <td>0.042005</td>\n      <td>0.558650</td>\n      <td>peripheral_nervous_system</td>\n      <td>Male</td>\n    </tr>\n    <tr>\n      <th>826</th>\n      <td>ACH-001536</td>\n      <td>0.103327</td>\n      <td>0.105757</td>\n      <td>0.023968</td>\n      <td>0.226432</td>\n      <td>0.148291</td>\n      <td>0.179185</td>\n      <td>0.117725</td>\n      <td>0.200721</td>\n      <td>0.051404</td>\n      <td>...</td>\n      <td>0.057576</td>\n      <td>0.086684</td>\n      <td>0.016250</td>\n      <td>0.111736</td>\n      <td>0.048491</td>\n      <td>0.096945</td>\n      <td>0.144653</td>\n      <td>0.226515</td>\n      <td>bile_duct</td>\n      <td>Female</td>\n    </tr>\n    <tr>\n      <th>533</th>\n      <td>ACH-000823</td>\n      <td>0.042740</td>\n      <td>0.050875</td>\n      <td>0.025178</td>\n      <td>0.018272</td>\n      <td>0.078067</td>\n      <td>0.123210</td>\n      <td>0.016575</td>\n      <td>0.215212</td>\n      <td>0.036062</td>\n      <td>...</td>\n      <td>0.011045</td>\n      <td>0.022754</td>\n      <td>0.026288</td>\n      <td>0.064011</td>\n      <td>0.097502</td>\n      <td>0.024371</td>\n      <td>0.068903</td>\n      <td>0.330795</td>\n      <td>esophagus</td>\n      <td>Male</td>\n    </tr>\n  </tbody>\n</table>\n<p>116 rows × 17389 columns</p>\n</div>"
     },
     "execution_count": 6,
     "metadata": {},
     "output_type": "execute_result"
    }
   ],
   "source": [
    "size = len(blood_df)\n",
    "\n",
    "not_blood = rnd.sample(list(not_blood_df.index), k=size)\n",
    "not_blood_df2 = not_blood_df.loc[not_blood]\n",
    "\n",
    "blood_data = pd.concat([blood_df, not_blood_df2], axis=0)\n",
    "blood_data"
   ],
   "metadata": {
    "collapsed": false
   }
  },
  {
   "cell_type": "code",
   "execution_count": 7,
   "outputs": [],
   "source": [
    "X = blood_data.drop(columns=['lineage', 'DepMap_ID'])\n",
    "X = pd.get_dummies(X)\n",
    "\n",
    "y = blood_data['lineage'] == 'blood'"
   ],
   "metadata": {
    "collapsed": false
   }
  },
  {
   "cell_type": "code",
   "execution_count": 12,
   "outputs": [
    {
     "data": {
      "text/plain": "LogisticRegression()",
      "text/html": "<style>#sk-container-id-3 {color: black;background-color: white;}#sk-container-id-3 pre{padding: 0;}#sk-container-id-3 div.sk-toggleable {background-color: white;}#sk-container-id-3 label.sk-toggleable__label {cursor: pointer;display: block;width: 100%;margin-bottom: 0;padding: 0.3em;box-sizing: border-box;text-align: center;}#sk-container-id-3 label.sk-toggleable__label-arrow:before {content: \"▸\";float: left;margin-right: 0.25em;color: #696969;}#sk-container-id-3 label.sk-toggleable__label-arrow:hover:before {color: black;}#sk-container-id-3 div.sk-estimator:hover label.sk-toggleable__label-arrow:before {color: black;}#sk-container-id-3 div.sk-toggleable__content {max-height: 0;max-width: 0;overflow: hidden;text-align: left;background-color: #f0f8ff;}#sk-container-id-3 div.sk-toggleable__content pre {margin: 0.2em;color: black;border-radius: 0.25em;background-color: #f0f8ff;}#sk-container-id-3 input.sk-toggleable__control:checked~div.sk-toggleable__content {max-height: 200px;max-width: 100%;overflow: auto;}#sk-container-id-3 input.sk-toggleable__control:checked~label.sk-toggleable__label-arrow:before {content: \"▾\";}#sk-container-id-3 div.sk-estimator input.sk-toggleable__control:checked~label.sk-toggleable__label {background-color: #d4ebff;}#sk-container-id-3 div.sk-label input.sk-toggleable__control:checked~label.sk-toggleable__label {background-color: #d4ebff;}#sk-container-id-3 input.sk-hidden--visually {border: 0;clip: rect(1px 1px 1px 1px);clip: rect(1px, 1px, 1px, 1px);height: 1px;margin: -1px;overflow: hidden;padding: 0;position: absolute;width: 1px;}#sk-container-id-3 div.sk-estimator {font-family: monospace;background-color: #f0f8ff;border: 1px dotted black;border-radius: 0.25em;box-sizing: border-box;margin-bottom: 0.5em;}#sk-container-id-3 div.sk-estimator:hover {background-color: #d4ebff;}#sk-container-id-3 div.sk-parallel-item::after {content: \"\";width: 100%;border-bottom: 1px solid gray;flex-grow: 1;}#sk-container-id-3 div.sk-label:hover label.sk-toggleable__label {background-color: #d4ebff;}#sk-container-id-3 div.sk-serial::before {content: \"\";position: absolute;border-left: 1px solid gray;box-sizing: border-box;top: 0;bottom: 0;left: 50%;z-index: 0;}#sk-container-id-3 div.sk-serial {display: flex;flex-direction: column;align-items: center;background-color: white;padding-right: 0.2em;padding-left: 0.2em;position: relative;}#sk-container-id-3 div.sk-item {position: relative;z-index: 1;}#sk-container-id-3 div.sk-parallel {display: flex;align-items: stretch;justify-content: center;background-color: white;position: relative;}#sk-container-id-3 div.sk-item::before, #sk-container-id-3 div.sk-parallel-item::before {content: \"\";position: absolute;border-left: 1px solid gray;box-sizing: border-box;top: 0;bottom: 0;left: 50%;z-index: -1;}#sk-container-id-3 div.sk-parallel-item {display: flex;flex-direction: column;z-index: 1;position: relative;background-color: white;}#sk-container-id-3 div.sk-parallel-item:first-child::after {align-self: flex-end;width: 50%;}#sk-container-id-3 div.sk-parallel-item:last-child::after {align-self: flex-start;width: 50%;}#sk-container-id-3 div.sk-parallel-item:only-child::after {width: 0;}#sk-container-id-3 div.sk-dashed-wrapped {border: 1px dashed gray;margin: 0 0.4em 0.5em 0.4em;box-sizing: border-box;padding-bottom: 0.4em;background-color: white;}#sk-container-id-3 div.sk-label label {font-family: monospace;font-weight: bold;display: inline-block;line-height: 1.2em;}#sk-container-id-3 div.sk-label-container {text-align: center;}#sk-container-id-3 div.sk-container {/* jupyter's `normalize.less` sets `[hidden] { display: none; }` but bootstrap.min.css set `[hidden] { display: none !important; }` so we also need the `!important` here to be able to override the default hidden behavior on the sphinx rendered scikit-learn.org. See: https://github.com/scikit-learn/scikit-learn/issues/21755 */display: inline-block !important;position: relative;}#sk-container-id-3 div.sk-text-repr-fallback {display: none;}</style><div id=\"sk-container-id-3\" class=\"sk-top-container\"><div class=\"sk-text-repr-fallback\"><pre>LogisticRegression()</pre><b>In a Jupyter environment, please rerun this cell to show the HTML representation or trust the notebook. <br />On GitHub, the HTML representation is unable to render, please try loading this page with nbviewer.org.</b></div><div class=\"sk-container\" hidden><div class=\"sk-item\"><div class=\"sk-estimator sk-toggleable\"><input class=\"sk-toggleable__control sk-hidden--visually\" id=\"sk-estimator-id-3\" type=\"checkbox\" checked><label for=\"sk-estimator-id-3\" class=\"sk-toggleable__label sk-toggleable__label-arrow\">LogisticRegression</label><div class=\"sk-toggleable__content\"><pre>LogisticRegression()</pre></div></div></div></div></div>"
     },
     "execution_count": 12,
     "metadata": {},
     "output_type": "execute_result"
    }
   ],
   "source": [
    "X_train, X_test, y_train, y_test = train_test_split(X, y, test_size=0.33, random_state=0, shuffle=True)\n",
    "logreg = LogisticRegression()\n",
    "logreg.fit(X_train, y_train)"
   ],
   "metadata": {
    "collapsed": false
   }
  },
  {
   "cell_type": "code",
   "execution_count": 13,
   "outputs": [
    {
     "data": {
      "text/plain": "0.9487179487179487"
     },
     "execution_count": 13,
     "metadata": {},
     "output_type": "execute_result"
    }
   ],
   "source": [
    "logreg.score(X_test, y_test)"
   ],
   "metadata": {
    "collapsed": false
   }
  }
 ],
 "metadata": {
  "kernelspec": {
   "display_name": "Python 3",
   "language": "python",
   "name": "python3"
  },
  "language_info": {
   "codemirror_mode": {
    "name": "ipython",
    "version": 2
   },
   "file_extension": ".py",
   "mimetype": "text/x-python",
   "name": "python",
   "nbconvert_exporter": "python",
   "pygments_lexer": "ipython2",
   "version": "2.7.6"
  }
 },
 "nbformat": 4,
 "nbformat_minor": 0
}

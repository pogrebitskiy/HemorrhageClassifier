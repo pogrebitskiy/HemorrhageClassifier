{
 "cells": [
  {
   "cell_type": "code",
   "execution_count": 16,
   "metadata": {
    "collapsed": true
   },
   "outputs": [],
   "source": [
    "import pandas as pd\n",
    "import numpy as np\n",
    "import time\n",
    "from sklearn.linear_model import LogisticRegression\n",
    "from sklearn.decomposition import PCA\n",
    "from sklearn.feature_selection import SelectKBest, chi2, f_classif, mutual_info_classif\n",
    "from sklearn.neighbors import KNeighborsClassifier\n",
    "from sklearn.model_selection import train_test_split\n",
    "from sklearn.svm import SVC\n",
    "from sklearn.metrics import confusion_matrix, ConfusionMatrixDisplay\n",
    "import matplotlib.pyplot as plt\n",
    "import seaborn as sns\n",
    "from pprint import pprint\n",
    "from sklearn.ensemble import RandomForestClassifier\n",
    "import random as rnd\n",
    "import warnings\n",
    "warnings.filterwarnings('ignore')"
   ]
  },
  {
   "cell_type": "code",
   "execution_count": 17,
   "outputs": [],
   "source": [
    "# Read in probability data\n",
    "prob_df = pd.read_csv('CRISPR_gene_effect.csv')\n",
    "# Read in labels\n",
    "label_df = pd.read_csv('sample_info.csv').reset_index()\n",
    "\n",
    "\n",
    "# Select desired labels only\n",
    "label_df = label_df[['DepMap_ID', 'lineage', 'sex']]"
   ],
   "metadata": {
    "collapsed": false
   }
  },
  {
   "cell_type": "code",
   "execution_count": 18,
   "outputs": [],
   "source": [
    "# Merge data with labels\n",
    "combined_df = pd.merge(prob_df, label_df, left_on='DepMap_ID', right_on='DepMap_ID')"
   ],
   "metadata": {
    "collapsed": false
   }
  },
  {
   "cell_type": "code",
   "execution_count": 19,
   "outputs": [],
   "source": [
    "# Drop NaN columns\n",
    "combined_df.dropna(axis=0, inplace=True)"
   ],
   "metadata": {
    "collapsed": false
   }
  },
  {
   "cell_type": "code",
   "execution_count": 20,
   "outputs": [],
   "source": [
    "# Remove rows with very uncommon cancer lineages (less than 2 rows)\n",
    "combined_df = combined_df.groupby('lineage').filter(lambda x: len(x) >= 2)"
   ],
   "metadata": {
    "collapsed": false
   }
  },
  {
   "cell_type": "code",
   "execution_count": 21,
   "outputs": [],
   "source": [
    "all_lineages = list(combined_df['lineage'].unique())"
   ],
   "metadata": {
    "collapsed": false
   }
  },
  {
   "cell_type": "code",
   "execution_count": 22,
   "outputs": [],
   "source": [
    "def cancer_binary_subset(df, target_lineage):\n",
    "    # Subset data into target lineage and everything else\n",
    "    cancer_df = df[df['lineage'] == target_lineage]\n",
    "    not_cancer_df = df[df['lineage'] != target_lineage]\n",
    "\n",
    "    # Grab a random sample from the not cancer dataframe\n",
    "    sample_idxs = rnd.sample(list(not_cancer_df.index), k=len(cancer_df))\n",
    "    not_cancer_sample = not_cancer_df.loc[sample_idxs]\n",
    "\n",
    "    # Concatenate the dataframes\n",
    "    total_df = pd.concat([cancer_df, not_cancer_sample], axis=0)\n",
    "\n",
    "    # Seperate the features\n",
    "    X = total_df.drop(columns=['lineage', 'DepMap_ID'])\n",
    "    X = pd.get_dummies(X)\n",
    "\n",
    "    # Separate the targets\n",
    "    y = total_df['lineage'] == target_lineage\n",
    "\n",
    "    return X, y"
   ],
   "metadata": {
    "collapsed": false
   }
  },
  {
   "cell_type": "code",
   "execution_count": 23,
   "outputs": [
    {
     "name": "stdout",
     "output_type": "stream",
     "text": [
      "R2 value for ovary: 0.5263157894736842\n",
      "R2 value for blood: 0.717948717948718\n",
      "R2 value for colorectal: 0.8235294117647058\n",
      "R2 value for urinary_tract: 0.6\n",
      "R2 value for lung: 0.47674418604651164\n",
      "R2 value for breast: 0.84375\n",
      "R2 value for pancreas: 0.5333333333333333\n",
      "R2 value for plasma_cell: 1.0\n",
      "R2 value for central_nervous_system: 0.6078431372549019\n",
      "R2 value for soft_tissue: 0.6428571428571429\n",
      "R2 value for bone: 0.7692307692307693\n",
      "R2 value for gastric: 0.5\n",
      "R2 value for lymphocyte: 0.84\n",
      "R2 value for peripheral_nervous_system: 0.7083333333333334\n",
      "R2 value for kidney: 0.8888888888888888\n",
      "R2 value for prostate: 0.5\n",
      "R2 value for thyroid: 0.6666666666666666\n",
      "R2 value for upper_aerodigestive: 0.8444444444444444\n",
      "R2 value for unknown: 0.5\n",
      "R2 value for uterus: 0.6086956521739131\n",
      "R2 value for bile_duct: 0.6111111111111112\n",
      "R2 value for liver: 0.6\n",
      "R2 value for skin: 0.5581395348837209\n",
      "R2 value for esophagus: 0.5714285714285714\n",
      "R2 value for cervix: 0.7272727272727273\n",
      "R2 value for eye: 0.8\n"
     ]
    }
   ],
   "source": [
    "knn = KNeighborsClassifier(n_neighbors=4)\n",
    "for lineage in all_lineages:\n",
    "    X, y = cancer_binary_subset(combined_df, lineage)\n",
    "    X_train, X_test, y_train, y_test = train_test_split(X, y, test_size=0.33, random_state=0, shuffle=True)\n",
    "    knn.fit(X_train, y_train)\n",
    "    score = knn.score(X_test,y_test)\n",
    "\n",
    "    print(f'R2 value for {lineage}: {score}')"
   ],
   "metadata": {
    "collapsed": false
   }
  },
  {
   "cell_type": "code",
   "execution_count": 24,
   "outputs": [
    {
     "name": "stdout",
     "output_type": "stream",
     "text": [
      "R2 value for ovary: 0.7894736842105263\n",
      "R2 value for blood: 1.0\n",
      "R2 value for colorectal: 0.7941176470588235\n",
      "R2 value for urinary_tract: 0.75\n",
      "R2 value for lung: 0.6162790697674418\n",
      "R2 value for breast: 0.8125\n",
      "R2 value for pancreas: 0.8666666666666667\n",
      "R2 value for plasma_cell: 0.9230769230769231\n",
      "R2 value for central_nervous_system: 0.8823529411764706\n",
      "R2 value for soft_tissue: 0.6785714285714286\n",
      "R2 value for bone: 0.8076923076923077\n",
      "R2 value for gastric: 0.7727272727272727\n",
      "R2 value for lymphocyte: 0.88\n",
      "R2 value for peripheral_nervous_system: 0.875\n",
      "R2 value for kidney: 0.8333333333333334\n",
      "R2 value for prostate: 1.0\n",
      "R2 value for thyroid: 0.6666666666666666\n",
      "R2 value for upper_aerodigestive: 0.9111111111111111\n",
      "R2 value for unknown: 1.0\n",
      "R2 value for uterus: 0.6956521739130435\n",
      "R2 value for bile_duct: 0.6111111111111112\n",
      "R2 value for liver: 0.6\n",
      "R2 value for skin: 0.9069767441860465\n",
      "R2 value for esophagus: 0.7619047619047619\n",
      "R2 value for cervix: 0.8181818181818182\n",
      "R2 value for eye: 0.9\n"
     ]
    }
   ],
   "source": [
    "logreg = LogisticRegression()\n",
    "for lineage in all_lineages:\n",
    "    X, y = cancer_binary_subset(combined_df, lineage)\n",
    "    X_train, X_test, y_train, y_test = train_test_split(X, y, test_size=0.33, random_state=0, shuffle=True)\n",
    "    logreg.fit(X_train, y_train)\n",
    "    score = logreg.score(X_test,y_test)\n",
    "\n",
    "    print(f'R2 value for {lineage}: {score}')"
   ],
   "metadata": {
    "collapsed": false
   }
  },
  {
   "cell_type": "code",
   "execution_count": 25,
   "outputs": [
    {
     "name": "stdout",
     "output_type": "stream",
     "text": [
      "R2 value for ovary: 0.7368421052631579\n",
      "R2 value for blood: 0.8974358974358975\n",
      "R2 value for colorectal: 0.7352941176470589\n",
      "R2 value for urinary_tract: 0.55\n",
      "R2 value for lung: 0.6511627906976745\n",
      "R2 value for breast: 0.78125\n",
      "R2 value for pancreas: 0.7333333333333333\n",
      "R2 value for plasma_cell: 0.8461538461538461\n",
      "R2 value for central_nervous_system: 0.7647058823529411\n",
      "R2 value for soft_tissue: 0.6785714285714286\n",
      "R2 value for bone: 0.6923076923076923\n",
      "R2 value for gastric: 0.7272727272727273\n",
      "R2 value for lymphocyte: 0.92\n",
      "R2 value for peripheral_nervous_system: 0.8333333333333334\n",
      "R2 value for kidney: 0.8333333333333334\n",
      "R2 value for prostate: 0.6666666666666666\n",
      "R2 value for thyroid: 0.3333333333333333\n",
      "R2 value for upper_aerodigestive: 0.8888888888888888\n",
      "R2 value for unknown: 0.5\n",
      "R2 value for uterus: 0.6521739130434783\n",
      "R2 value for bile_duct: 0.6666666666666666\n",
      "R2 value for liver: 0.5333333333333333\n",
      "R2 value for skin: 0.7674418604651163\n",
      "R2 value for esophagus: 0.8571428571428571\n",
      "R2 value for cervix: 0.6363636363636364\n",
      "R2 value for eye: 0.5\n"
     ]
    }
   ],
   "source": [
    "rfc = RandomForestClassifier()\n",
    "for lineage in all_lineages:\n",
    "    X, y = cancer_binary_subset(combined_df, lineage)\n",
    "    X_train, X_test, y_train, y_test = train_test_split(X, y, test_size=0.33, random_state=0, shuffle=True)\n",
    "    rfc.fit(X_train, y_train)\n",
    "    score = rfc.score(X_test,y_test)\n",
    "\n",
    "    print(f'R2 value for {lineage}: {score}')"
   ],
   "metadata": {
    "collapsed": false
   }
  }
 ],
 "metadata": {
  "kernelspec": {
   "display_name": "Python 3",
   "language": "python",
   "name": "python3"
  },
  "language_info": {
   "codemirror_mode": {
    "name": "ipython",
    "version": 2
   },
   "file_extension": ".py",
   "mimetype": "text/x-python",
   "name": "python",
   "nbconvert_exporter": "python",
   "pygments_lexer": "ipython2",
   "version": "2.7.6"
  }
 },
 "nbformat": 4,
 "nbformat_minor": 0
}

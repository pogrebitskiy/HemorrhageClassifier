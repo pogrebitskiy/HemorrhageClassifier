{
 "cells": [
  {
   "cell_type": "code",
   "execution_count": 3,
   "metadata": {
    "collapsed": true
   },
   "outputs": [],
   "source": [
    "import pandas as pd\n",
    "import numpy as np\n",
    "import time"
   ]
  },
  {
   "cell_type": "code",
   "execution_count": 4,
   "outputs": [],
   "source": [
    "prob_df = pd.read_csv('CRISPR_gene_dependency 3.06.36 PM.csv').reset_index()\n",
    "\n",
    "label_df = pd.read_csv('sample_info.csv').reset_index()\n",
    "\n",
    "label_df = label_df[['DepMap_ID', 'stripped_cell_line_name',\n",
    "                         'sex', 'sample_collection_site', \"primary_or_metastasis\",\n",
    "                         \"primary_disease\", \"Subtype\", 'age', 'default_growth_pattern']]"
   ],
   "metadata": {
    "collapsed": false
   }
  },
  {
   "cell_type": "code",
   "execution_count": 5,
   "outputs": [],
   "source": [
    "combined_df = pd.merge(prob_df, label_df, left_on='DepMap_ID', right_on='DepMap_ID')"
   ],
   "metadata": {
    "collapsed": false
   }
  },
  {
   "cell_type": "code",
   "execution_count": null,
   "outputs": [],
   "source": [
    "cancer_bool = combined_df['primary_disease'] == 'Non-Cancerous'\n",
    "\n",
    "combined_df['is_cancer'] = cancer_bool.replace({False:1, True:0})"
   ],
   "metadata": {
    "collapsed": false
   }
  }
 ],
 "metadata": {
  "kernelspec": {
   "display_name": "Python 3",
   "language": "python",
   "name": "python3"
  },
  "language_info": {
   "codemirror_mode": {
    "name": "ipython",
    "version": 2
   },
   "file_extension": ".py",
   "mimetype": "text/x-python",
   "name": "python",
   "nbconvert_exporter": "python",
   "pygments_lexer": "ipython2",
   "version": "2.7.6"
  }
 },
 "nbformat": 4,
 "nbformat_minor": 0
}
